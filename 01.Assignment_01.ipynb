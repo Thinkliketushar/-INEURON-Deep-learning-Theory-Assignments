{
 "cells": [
  {
   "cell_type": "markdown",
   "id": "9388c106",
   "metadata": {},
   "source": [
    "# Assignment 01 Solutions"
   ]
  },
  {
   "cell_type": "markdown",
   "id": "23332082",
   "metadata": {},
   "source": [
    "#### 1.\tWhat is the function of a summation junction of a neuron? What is threshold activation function ?"
   ]
  },
  {
   "cell_type": "markdown",
   "id": "5a3e32d2",
   "metadata": {
    "raw_mimetype": "text/html"
   },
   "source": [
    "<code>In the summation, all features are multiplied by their weights and bias are summed up. (Y=W1X1+W2X2+b). This summed function is applied over an Activation function.\n",
    "Threshold activation function (or simply the activation function, also known as squashing function) results in an output signal only when an input signal exceeding a specific threshold value comes as an input.<code>"
   ]
  },
  {
   "cell_type": "markdown",
   "id": "73931c63",
   "metadata": {},
   "source": [
    "#### 2.\tWhat is a step function? What is the difference of step function with threshold function ?"
   ]
  },
  {
   "cell_type": "markdown",
   "id": "21a617d9",
   "metadata": {
    "raw_mimetype": "text/html"
   },
   "source": [
    "<code>Step Function is one of the simplest kind of activation functions. In this, we consider a threshold value and if the value of net input say y is greater than the threshold then the neuron is activated."
   ]
  },
  {
   "cell_type": "markdown",
   "id": "efb9e19b",
   "metadata": {},
   "source": [
    "#### 3.\tExplain the McCulloch–Pitts model of neuron ?"
   ]
  },
  {
   "cell_type": "markdown",
   "id": "b0b3d38b",
   "metadata": {
    "raw_mimetype": "text/html"
   },
   "source": [
    "<code>The McCulloch–Pitt neural network is considered to be the first neural network. The neurons are connected by directed weighted paths"
   ]
  },
  {
   "cell_type": "markdown",
   "id": "c3814e96",
   "metadata": {},
   "source": [
    "#### 4.\tExplain the ADALINE network model ?"
   ]
  },
  {
   "cell_type": "markdown",
   "id": "b4ea8afc",
   "metadata": {
    "raw_mimetype": "text/html"
   },
   "source": [
    "<code>MADALINE is a three-layer (input, hidden, output), fully connected, feed-forward artificial neural network architecture for classification that uses ADALINE units in its hidden and output layers."
   ]
  },
  {
   "cell_type": "markdown",
   "id": "4450753d",
   "metadata": {},
   "source": [
    "#### 5.\tWhat is the constraint of a simple perceptron? Why it may fail with a real-world data set ?"
   ]
  },
  {
   "cell_type": "markdown",
   "id": "97bbd32f",
   "metadata": {},
   "source": [
    "<code>Simple perceptrone is summition of wi and xi with epchs or learning rate.\n",
    "Problems is:- perceptrone is only work on linear data."
   ]
  },
  {
   "cell_type": "markdown",
   "id": "64e9b622",
   "metadata": {},
   "source": [
    "#### 6.\tWhat is linearly inseparable problem? What is the role of the hidden layer ?"
   ]
  },
  {
   "cell_type": "markdown",
   "id": "74c7d92a",
   "metadata": {},
   "source": [
    "<code>In which the line can't classified the two classes called linerly inseparable problem.\n",
    "Hidden layers allow for the function of a neural network to be broken down into specific transformations of the data"
   ]
  },
  {
   "cell_type": "markdown",
   "id": "88662dbf",
   "metadata": {},
   "source": [
    "#### 7.\tExplain XOR problem in case of a simple perceptron? "
   ]
  },
  {
   "cell_type": "markdown",
   "id": "a50d5576",
   "metadata": {},
   "source": [
    "<code>xor is a sparse like data and the simple perceptrone is only work on linear data. If we work on xor data then they can't find a linear line."
   ]
  },
  {
   "cell_type": "markdown",
   "id": "dfd5516b",
   "metadata": {},
   "source": [
    "#### 8.\tDesign a multi-layer perceptron to implement A XOR B ?"
   ]
  },
  {
   "cell_type": "code",
   "execution_count": 4,
   "id": "397f960d",
   "metadata": {},
   "outputs": [
    {
     "data": {
      "text/html": [
       "<style>#sk-container-id-1 {color: black;}#sk-container-id-1 pre{padding: 0;}#sk-container-id-1 div.sk-toggleable {background-color: white;}#sk-container-id-1 label.sk-toggleable__label {cursor: pointer;display: block;width: 100%;margin-bottom: 0;padding: 0.3em;box-sizing: border-box;text-align: center;}#sk-container-id-1 label.sk-toggleable__label-arrow:before {content: \"▸\";float: left;margin-right: 0.25em;color: #696969;}#sk-container-id-1 label.sk-toggleable__label-arrow:hover:before {color: black;}#sk-container-id-1 div.sk-estimator:hover label.sk-toggleable__label-arrow:before {color: black;}#sk-container-id-1 div.sk-toggleable__content {max-height: 0;max-width: 0;overflow: hidden;text-align: left;background-color: #f0f8ff;}#sk-container-id-1 div.sk-toggleable__content pre {margin: 0.2em;color: black;border-radius: 0.25em;background-color: #f0f8ff;}#sk-container-id-1 input.sk-toggleable__control:checked~div.sk-toggleable__content {max-height: 200px;max-width: 100%;overflow: auto;}#sk-container-id-1 input.sk-toggleable__control:checked~label.sk-toggleable__label-arrow:before {content: \"▾\";}#sk-container-id-1 div.sk-estimator input.sk-toggleable__control:checked~label.sk-toggleable__label {background-color: #d4ebff;}#sk-container-id-1 div.sk-label input.sk-toggleable__control:checked~label.sk-toggleable__label {background-color: #d4ebff;}#sk-container-id-1 input.sk-hidden--visually {border: 0;clip: rect(1px 1px 1px 1px);clip: rect(1px, 1px, 1px, 1px);height: 1px;margin: -1px;overflow: hidden;padding: 0;position: absolute;width: 1px;}#sk-container-id-1 div.sk-estimator {font-family: monospace;background-color: #f0f8ff;border: 1px dotted black;border-radius: 0.25em;box-sizing: border-box;margin-bottom: 0.5em;}#sk-container-id-1 div.sk-estimator:hover {background-color: #d4ebff;}#sk-container-id-1 div.sk-parallel-item::after {content: \"\";width: 100%;border-bottom: 1px solid gray;flex-grow: 1;}#sk-container-id-1 div.sk-label:hover label.sk-toggleable__label {background-color: #d4ebff;}#sk-container-id-1 div.sk-serial::before {content: \"\";position: absolute;border-left: 1px solid gray;box-sizing: border-box;top: 0;bottom: 0;left: 50%;z-index: 0;}#sk-container-id-1 div.sk-serial {display: flex;flex-direction: column;align-items: center;background-color: white;padding-right: 0.2em;padding-left: 0.2em;position: relative;}#sk-container-id-1 div.sk-item {position: relative;z-index: 1;}#sk-container-id-1 div.sk-parallel {display: flex;align-items: stretch;justify-content: center;background-color: white;position: relative;}#sk-container-id-1 div.sk-item::before, #sk-container-id-1 div.sk-parallel-item::before {content: \"\";position: absolute;border-left: 1px solid gray;box-sizing: border-box;top: 0;bottom: 0;left: 50%;z-index: -1;}#sk-container-id-1 div.sk-parallel-item {display: flex;flex-direction: column;z-index: 1;position: relative;background-color: white;}#sk-container-id-1 div.sk-parallel-item:first-child::after {align-self: flex-end;width: 50%;}#sk-container-id-1 div.sk-parallel-item:last-child::after {align-self: flex-start;width: 50%;}#sk-container-id-1 div.sk-parallel-item:only-child::after {width: 0;}#sk-container-id-1 div.sk-dashed-wrapped {border: 1px dashed gray;margin: 0 0.4em 0.5em 0.4em;box-sizing: border-box;padding-bottom: 0.4em;background-color: white;}#sk-container-id-1 div.sk-label label {font-family: monospace;font-weight: bold;display: inline-block;line-height: 1.2em;}#sk-container-id-1 div.sk-label-container {text-align: center;}#sk-container-id-1 div.sk-container {/* jupyter's `normalize.less` sets `[hidden] { display: none; }` but bootstrap.min.css set `[hidden] { display: none !important; }` so we also need the `!important` here to be able to override the default hidden behavior on the sphinx rendered scikit-learn.org. See: https://github.com/scikit-learn/scikit-learn/issues/21755 */display: inline-block !important;position: relative;}#sk-container-id-1 div.sk-text-repr-fallback {display: none;}</style><div id=\"sk-container-id-1\" class=\"sk-top-container\"><div class=\"sk-text-repr-fallback\"><pre>Perceptron()</pre><b>In a Jupyter environment, please rerun this cell to show the HTML representation or trust the notebook. <br />On GitHub, the HTML representation is unable to render, please try loading this page with nbviewer.org.</b></div><div class=\"sk-container\" hidden><div class=\"sk-item\"><div class=\"sk-estimator sk-toggleable\"><input class=\"sk-toggleable__control sk-hidden--visually\" id=\"sk-estimator-id-1\" type=\"checkbox\" checked><label for=\"sk-estimator-id-1\" class=\"sk-toggleable__label sk-toggleable__label-arrow\">Perceptron</label><div class=\"sk-toggleable__content\"><pre>Perceptron()</pre></div></div></div></div></div>"
      ],
      "text/plain": [
       "Perceptron()"
      ]
     },
     "execution_count": 4,
     "metadata": {},
     "output_type": "execute_result"
    },
    {
     "data": {
      "image/png": "[encoded data removed]",
      "text/plain": [
       "<Figure size 640x480 with 1 Axes>"
      ]
     },
     "metadata": {},
     "output_type": "display_data"
    }
   ],
   "source": [
    "import numpy as np\n",
    "import pandas as pd\n",
    "import matplotlib.pyplot as plt\n",
    "import seaborn as sns\n",
    "xor_data = pd.DataFrame()\n",
    "xor_data['input1']=[1,1,0,0]\n",
    "xor_data['input2']=[1,0,1,0]\n",
    "xor_data['ouput']=[0,1,1,0]\n",
    "sns.scatterplot(data = xor_data,s=200)\n",
    "from sklearn.linear_model import Perceptron\n",
    "clf1=Perceptron()\n",
    "clf1.fit(xor_data.iloc[:,0:2].values,xor_data.iloc[:,-1].values)"
   ]
  },
  {
   "cell_type": "markdown",
   "id": "72541716",
   "metadata": {},
   "source": [
    "#### 9.\tExplain the single-layer feed forward architecture of ANN ?"
   ]
  },
  {
   "cell_type": "markdown",
   "id": "f7d7ba09",
   "metadata": {},
   "source": [
    "<code>The output layer is formed when different weights are applied to input nodes and the cumulative effect per node is taken. Its mean no hidden layer"
   ]
  },
  {
   "cell_type": "markdown",
   "id": "39337dbb",
   "metadata": {},
   "source": [
    "#### 10. Explain the competitive network architecture of ANN ?"
   ]
  },
  {
   "cell_type": "markdown",
   "id": "4d144d9d",
   "metadata": {},
   "source": [
    "<code>3 or more than layers are in the category of competitive network of ann."
   ]
  },
  {
   "cell_type": "markdown",
   "id": "14fcf88b",
   "metadata": {},
   "source": [
    "#### 11. Consider a multi-layer feed forward neural network. Enumerate and explain steps in the backpropagation algorithm used to train the network ?"
   ]
  },
  {
   "cell_type": "markdown",
   "id": "228efa0c",
   "metadata": {},
   "source": [
    "<code>Step 1: Inputs X, arrive through the preconnected path.\n",
    "Step 2: The input is modeled using true weights W. Weights are usually chosen randomly.\n",
    "Step 3: Calculate the output of each neuron from the input layer to the hidden layer to the output layer.\n",
    "Step 4: Calculate the error in the outputs\n",
    "Step 5: From the output layer, go back to the hidden layer to adjust the weights to reduce the error.\n",
    "Step 6: Repeat the process until the desired output is achieved."
   ]
  },
  {
   "cell_type": "markdown",
   "id": "f7ed34cd",
   "metadata": {},
   "source": [
    "#### 12. What are the advantages and disadvantages of neural networks ?"
   ]
  },
  {
   "cell_type": "markdown",
   "id": "3e7e0df5",
   "metadata": {},
   "source": [
    "<code>advantage: efficience, continous learning, data retreval, wide application\n",
    "disadvantage: hardware dependent, black box nature, complex algorithm, data dependency"
   ]
  },
  {
   "cell_type": "markdown",
   "id": "63795b39",
   "metadata": {},
   "source": [
    "#### 13. Write short notes on any two of the following:\n",
    "1. Biological neuron\n",
    "2. ReLU function\n",
    "3. Single-layer feed forward ANN\n",
    "4. Gradient descent\n",
    "5. Recurrent networks"
   ]
  },
  {
   "cell_type": "markdown",
   "id": "a2b23323",
   "metadata": {},
   "source": [
    "<code>biological neuron:- individual cells, each composed of the main body of the cell along with many tendrils that extend from that body\n",
    "Relu function:- The ReLU function is another non-linear activation function that has gained popularity in the deep learning domain. ReLU stands for Rectified Linear Unit.\n",
    "Single-layer feed forward ANN:- The feedforward neural network was the first and simplest type of artificial neural network devised.\n",
    "Gradient descent:- Optimisation technique to find weights\n",
    "Recurrent network:- Recurrent Neural Network(RNN) are a type of Neural Network where the output from previous step are fed as input to the current step."
   ]
  },
  {
   "cell_type": "code",
   "execution_count": null,
   "id": "5cd39e2f",
   "metadata": {},
   "outputs": [],
   "source": []
  }
 ],
 "metadata": {
  "celltoolbar": "Raw Cell Format",
  "kernelspec": {
   "display_name": "Python 3 (ipykernel)",
   "language": "python",
   "name": "python3"
  },
  "language_info": {
   "codemirror_mode": {
    "name": "ipython",
    "version": 3
   },
   "file_extension": ".py",
   "mimetype": "text/x-python",
   "name": "python",
   "nbconvert_exporter": "python",
   "pygments_lexer": "ipython3",
   "version": "3.8.0"
  }
 },
 "nbformat": 4,
 "nbformat_minor": 5
}
