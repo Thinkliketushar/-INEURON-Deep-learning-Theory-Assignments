{
 "cells": [
  {
   "cell_type": "markdown",
   "id": "dc6bd03c",
   "metadata": {},
   "source": [
    "# Assignment 04 Solutions"
   ]
  },
  {
   "cell_type": "markdown",
   "id": "4a248256",
   "metadata": {},
   "source": [
    "#### 1.\tHow would you describe TensorFlow in a short sentence? What are its main features? Can you name other popular Deep Learning libraries?"
   ]
  },
  {
   "cell_type": "markdown",
   "id": "ab7bddb8",
   "metadata": {},
   "source": [
    "<code>It's designed to streamline the process of developing and executing advanced analytics applications for users such as data scientists, statisticians and predictive modelers. Efficiently works with mathematical expressions involving multi-dimensional arrays. Good support of deep neural networks and machine learning concepts. GPU/CPU computing where the same code can be executed on both architectures. keras pytoch, etc."
   ]
  },
  {
   "cell_type": "markdown",
   "id": "f5c5f184",
   "metadata": {},
   "source": [
    "#### 2.\tIs TensorFlow a drop-in replacement for NumPy? What are the main differences between the two?"
   ]
  },
  {
   "cell_type": "markdown",
   "id": "d2670043",
   "metadata": {},
   "source": [
    "<code>NumPy is a Python library (or package) with which you can do high-level mathematical operations. TensorFlow is a framework of machine learning using data flow graphs. TensorFlow offers APIs binding to Python, C++ and Java. Operations in TensorFlow with Python API often requires the installation of NumPy, among others."
   ]
  },
  {
   "cell_type": "markdown",
   "id": "edf7aaa4",
   "metadata": {},
   "source": [
    "#### 3.\tDo you get the same result with tf.range(10) and tf.constant(np.arange(10))?"
   ]
  },
  {
   "cell_type": "code",
   "execution_count": 3,
   "id": "3bfeefc1",
   "metadata": {},
   "outputs": [
    {
     "data": {
      "text/plain": [
       "<tf.Tensor: shape=(10,), dtype=int32, numpy=array([0, 1, 2, 3, 4, 5, 6, 7, 8, 9])>"
      ]
     },
     "execution_count": 3,
     "metadata": {},
     "output_type": "execute_result"
    }
   ],
   "source": [
    "import tensorflow as tf\n",
    "tf.range(10)"
   ]
  },
  {
   "cell_type": "code",
   "execution_count": 5,
   "id": "fe8d4178",
   "metadata": {},
   "outputs": [
    {
     "data": {
      "text/plain": [
       "<tf.Tensor: shape=(10,), dtype=int32, numpy=array([0, 1, 2, 3, 4, 5, 6, 7, 8, 9])>"
      ]
     },
     "execution_count": 5,
     "metadata": {},
     "output_type": "execute_result"
    }
   ],
   "source": [
    "import numpy as np\n",
    "tf.constant(np.arange(10))"
   ]
  },
  {
   "cell_type": "markdown",
   "id": "746cb7cc",
   "metadata": {},
   "source": [
    "#### 4.\tCan you name six other data structures available in TensorFlow, beyond regular tensors?"
   ]
  },
  {
   "cell_type": "markdown",
   "id": "9cb5e554",
   "metadata": {},
   "source": [
    "<code>list array graph edge, sparce, queue, etc."
   ]
  },
  {
   "cell_type": "markdown",
   "id": "332cbd41",
   "metadata": {},
   "source": [
    "#### 5.\tA custom loss function can be defined by writing a function or by subclassing the keras.losses.Loss class. When would you use each option?"
   ]
  },
  {
   "cell_type": "markdown",
   "id": "9748a7bf",
   "metadata": {},
   "source": [
    "<code>keras.losses.Loss for complex loss functions and loss for calculating loss function"
   ]
  },
  {
   "cell_type": "markdown",
   "id": "4e479268",
   "metadata": {},
   "source": [
    "#### 6.\tSimilarly, a custom metric can be defined in a function or a subclass of keras.metrics.Metric. When would you use each option?"
   ]
  },
  {
   "cell_type": "markdown",
   "id": "6d2b4625",
   "metadata": {},
   "source": [
    "<code>keras.metrics.Metric when dealing with complex metrics and matrix for regular"
   ]
  },
  {
   "cell_type": "markdown",
   "id": "f71bd58a",
   "metadata": {},
   "source": [
    "#### 7.\tWhen should you create a custom layer versus a custom model?"
   ]
  },
  {
   "cell_type": "markdown",
   "id": "3c53f0c7",
   "metadata": {},
   "source": [
    "<code>Use custom layers for smaller, reusable, and modular components that can be plugged into various models"
   ]
  },
  {
   "cell_type": "markdown",
   "id": "0d16db75",
   "metadata": {},
   "source": [
    "#### 8.\tWhat are some use cases that require writing your own custom training loop?"
   ]
  },
  {
   "cell_type": "markdown",
   "id": "f4a5c715",
   "metadata": {},
   "source": [
    "<code>custom loss function, matrix, research, experiment, etc."
   ]
  },
  {
   "cell_type": "markdown",
   "id": "979e3af2",
   "metadata": {},
   "source": [
    "#### 9.\tCan custom Keras components contain arbitrary Python code, or must they be convertible to TF Functions?"
   ]
  },
  {
   "cell_type": "markdown",
   "id": "ef5ff14a",
   "metadata": {},
   "source": [
    "<code>Custom Keras components, such as layers, loss functions, and metrics, should be designed in a way that allows them to be convertible to TensorFlow Functions (tf.function) or compatible with TensorFlow's graph execution mode"
   ]
  },
  {
   "cell_type": "markdown",
   "id": "bd77bd31",
   "metadata": {},
   "source": [
    "#### 10.\tWhat are the main rules to respect if you want a function to be convertible to a TF Function?"
   ]
  },
  {
   "cell_type": "markdown",
   "id": "6ba2f472",
   "metadata": {},
   "source": [
    "<code> Exception, debugging, annotation, dynamic python, etc."
   ]
  },
  {
   "cell_type": "markdown",
   "id": "0c0f18dc",
   "metadata": {},
   "source": [
    "#### 11.\tWhen would you need to create a dynamic Keras model? How do you do that? Why not make all your models dynamic?"
   ]
  },
  {
   "cell_type": "markdown",
   "id": "67b77aee",
   "metadata": {},
   "source": [
    "<code>Creating a dynamic Keras model can be necessary when your neural network architecture needs to adapt to varying input shapes or when you want to conditionally modify the model structure during training or inference. We do that using keras library and we not make all model dynamic because of complexity, compatiblity, etc."
   ]
  },
  {
   "cell_type": "code",
   "execution_count": null,
   "id": "0e7704bd",
   "metadata": {},
   "outputs": [],
   "source": []
  }
 ],
 "metadata": {
  "kernelspec": {
   "display_name": "Python 3 (ipykernel)",
   "language": "python",
   "name": "python3"
  },
  "language_info": {
   "codemirror_mode": {
    "name": "ipython",
    "version": 3
   },
   "file_extension": ".py",
   "mimetype": "text/x-python",
   "name": "python",
   "nbconvert_exporter": "python",
   "pygments_lexer": "ipython3",
   "version": "3.8.0"
  }
 },
 "nbformat": 4,
 "nbformat_minor": 5
}
